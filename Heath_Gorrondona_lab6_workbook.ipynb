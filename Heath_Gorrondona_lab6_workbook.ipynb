{
 "cells": [
  {
   "cell_type": "markdown",
   "metadata": {
    "colab_type": "text",
    "id": "u1YDPNtbdHDj"
   },
   "source": [
    "# Probability Distribution\n",
    "\n",
    "## PETE 2061 Lab 6 Workbook \n",
    "\n",
    "## THIS LAB IS DUE BY 10:20 am!!\n",
    "\n",
    "<a id='top'></a>"
   ]
  },
  {
   "cell_type": "markdown",
   "metadata": {
    "colab_type": "text",
    "id": "krWd44XodHDp"
   },
   "source": [
    "<a id='variables'></a>\n",
    "## Volumetric Reserves Estimation\n",
    "The Stock-tank Oil Initially In Place (STOIIP) is the amount of oil that is stored in an oil reservoir. Assuming that the pore spaces in the reservoir are filled with water and oil only, the STOIIP can be estimated using the formula:<br><br>\n",
    "$STOIIP = 7758 Ah\\phi(1-S_{wi})/B_{oi}$ <br><br>\n",
    "where $A$ is the area of the reservoir in acres, <br>\n",
    "$h$ is the reservoir thickness in feet (ft), <br>\n",
    "$S_{wi}$ is the initial water saturation of the reservoir. It is the ratio of the volume of water initially in the reservoir to the total pore volume in the reservoir. It can either be expressed as a fraction or percentage. <br>\n",
    "$B_{oi}$ is the initial oil formation volume factor. It is the ratio of the volume of oil at reservoir conditions (measured in units of reservoir barrels, rb) to the volume of oil at standard conditions (measured in units of stock tank barrels, stb). This means that the unit of $B_{oi}$ is $\\frac{rb}{stb}$ <br>\n",
    "$\\phi$ is the porosity of the reservoir. It is the ratio of the pore volume to the bulk volume, and can be expressed as a fraction or in percentage.<br>\n",
    "7758 is the conversion factor from acre-ft to barrels (bbl or rb) <br><br>\n",
    "\n",
    "All the variables are assumed to be normally distributed with the mean and standard deviation given using the nomenclaturre (mean, std) below:<br>\n",
    "A = (mean=300,std=25)  $\\hspace{22pt}$ # in acres (store this value in a variable called \"area\")<br>\n",
    "h = (60,10) $\\hspace{27pt}$ # in feet (store this value in a variable called \"h\") <br>\n",
    "$\\phi$ = (0.34,0.1) $\\hspace{19pt}$ # fraction (store this value in a variable called \"poro\")<br>\n",
    "$S_{wi}$ = (0.26,0.05) $\\hspace{15pt}$ # fraction (store this value in a variable called \"s_wi\")<br>\n",
    "$B_{oi}$ = (1.15,0.07) $\\hspace{19pt}$ # rb/stb (store this value in a variable called \"b_oi\")<br>"
   ]
  },
  {
   "cell_type": "markdown",
   "metadata": {},
   "source": [
    "1. Using only the mean values given above, write a Python code that calculates and stores the STOIIP value into a variable named \"stoiip\", and then prints this STOIIP value and unit using a formatted print statement."
   ]
  },
  {
   "cell_type": "code",
   "execution_count": 3,
   "metadata": {
    "scrolled": true
   },
   "outputs": [
    {
     "name": "stdout",
     "output_type": "stream",
     "text": [
      "The stock tank oil initially in place (STOIIP) is about 30551678.608695652 stb\n"
     ]
    }
   ],
   "source": [
    "area, h, poro, s_wi, b_oi = 300, 60, .34, .26, 1.15\n",
    "area_std, h_std, poro_std, s_wi_std, b_oi_std = 25,10,.1,.05,.07\n",
    "stoiip = 7758*area*h*poro*(1-s_wi)/b_oi\n",
    "print(f'The stock tank oil initially in place (STOIIP) is about {stoiip} stb')"
   ]
  },
  {
   "cell_type": "markdown",
   "metadata": {},
   "source": [
    "2. Import the numpy, pandas and matplotlib.pyplot libraries"
   ]
  },
  {
   "cell_type": "code",
   "execution_count": 4,
   "metadata": {},
   "outputs": [],
   "source": [
    "import numpy as np\n",
    "import pandas as pd\n",
    "import matplotlib.pyplot as mp\n"
   ]
  },
  {
   "cell_type": "markdown",
   "metadata": {},
   "source": [
    "3. Create a variable named nSamples, and assign it to 10000. <br>\n",
    "4. Using the given mean and std values, generate \"nSamples\" of area, h, poro, s_wi and b_oi. These should all be normally-distributed. Use the appropriate function from np.random library<br>\n",
    "HINT: It is wise to start out by first setting nSamples to 10 and printing out your computations to be sure everything is working as expected. You should then set it to 10000 when you are convinced everything is working as expected."
   ]
  },
  {
   "cell_type": "code",
   "execution_count": 5,
   "metadata": {},
   "outputs": [],
   "source": [
    "nSamples = 10000\n",
    "area_arr = np.random.normal(area, area_std, nSamples)\n",
    "h_arr = np.random.normal(h, h_std, nSamples)\n",
    "poro_arr = np.random.normal(poro, poro_std, nSamples)\n",
    "s_wi_arr = np.random.normal(s_wi, s_wi_std, nSamples)\n",
    "b_oi_arr = np.random.normal(b_oi, b_oi_std, nSamples)\n",
    "#print(f'{area_arr} {h_arr} {poro_arr} {s_wi_arr} {b_oi_arr}')"
   ]
  },
  {
   "cell_type": "markdown",
   "metadata": {},
   "source": [
    "5. Compute the stoiip values corresponding to the nSamples for all the variables computed in 4 above.<br>\n",
    "Hint: Note that all the input variables from (4) above are numpy arrays. So, you should vectorize the calculations, by writing just one line of code to compute the STOIIP. <br>\n",
    "Do not use a for loop. It is slow compared to vectorization.<br>\n",
    "**For 10 points of extra-credit you can use a for loop and time both approaches, then report the the percentage speed-up, but this should be done only after you have completed all the steps in this lab workbook.**"
   ]
  },
  {
   "cell_type": "code",
   "execution_count": 6,
   "metadata": {},
   "outputs": [
    {
     "data": {
      "text/plain": [
       "array([30008813.08213454, 26487823.71758092, 33855960.32316517, ...,\n",
       "       49059886.16144978, 29774655.40026878, 13898385.72059531])"
      ]
     },
     "execution_count": 6,
     "metadata": {},
     "output_type": "execute_result"
    }
   ],
   "source": [
    "stoiip_arr = 7758*area_arr*h_arr*poro_arr*(1-s_wi_arr)/b_oi_arr\n",
    "stoiip_arr"
   ]
  },
  {
   "cell_type": "markdown",
   "metadata": {},
   "source": [
    "6. Store the results in a pandas DataFrame with a column name \"STOIIP\". Display the first five rows of the stoiip using the .head() function of the pandas DataFrame object."
   ]
  },
  {
   "cell_type": "code",
   "execution_count": 7,
   "metadata": {},
   "outputs": [
    {
     "data": {
      "text/html": [
       "<div>\n",
       "<style scoped>\n",
       "    .dataframe tbody tr th:only-of-type {\n",
       "        vertical-align: middle;\n",
       "    }\n",
       "\n",
       "    .dataframe tbody tr th {\n",
       "        vertical-align: top;\n",
       "    }\n",
       "\n",
       "    .dataframe thead th {\n",
       "        text-align: right;\n",
       "    }\n",
       "</style>\n",
       "<table border=\"1\" class=\"dataframe\">\n",
       "  <thead>\n",
       "    <tr style=\"text-align: right;\">\n",
       "      <th></th>\n",
       "      <th>STOIIP</th>\n",
       "    </tr>\n",
       "  </thead>\n",
       "  <tbody>\n",
       "    <tr>\n",
       "      <th>0</th>\n",
       "      <td>3.000881e+07</td>\n",
       "    </tr>\n",
       "    <tr>\n",
       "      <th>1</th>\n",
       "      <td>2.648782e+07</td>\n",
       "    </tr>\n",
       "    <tr>\n",
       "      <th>2</th>\n",
       "      <td>3.385596e+07</td>\n",
       "    </tr>\n",
       "    <tr>\n",
       "      <th>3</th>\n",
       "      <td>2.293998e+07</td>\n",
       "    </tr>\n",
       "    <tr>\n",
       "      <th>4</th>\n",
       "      <td>1.530031e+07</td>\n",
       "    </tr>\n",
       "  </tbody>\n",
       "</table>\n",
       "</div>"
      ],
      "text/plain": [
       "         STOIIP\n",
       "0  3.000881e+07\n",
       "1  2.648782e+07\n",
       "2  3.385596e+07\n",
       "3  2.293998e+07\n",
       "4  1.530031e+07"
      ]
     },
     "execution_count": 7,
     "metadata": {},
     "output_type": "execute_result"
    }
   ],
   "source": [
    "stoiipDF = pd.DataFrame({'STOIIP':stoiip_arr})\n",
    "stoiipDF.head()"
   ]
  },
  {
   "cell_type": "markdown",
   "metadata": {},
   "source": [
    "7. Plot the probability density function (pdf) of these 10,000 values of STOIIP"
   ]
  },
  {
   "cell_type": "code",
   "execution_count": 8,
   "metadata": {},
   "outputs": [
    {
     "data": {
      "text/plain": [
       "<matplotlib.axes._subplots.AxesSubplot at 0x130c36ac2e8>"
      ]
     },
     "execution_count": 8,
     "metadata": {},
     "output_type": "execute_result"
    },
    {
     "data": {
      "image/png": "[encoded data removed]",
      "text/plain": [
       "<Figure size 432x288 with 1 Axes>"
      ]
     },
     "metadata": {
      "needs_background": "light"
     },
     "output_type": "display_data"
    }
   ],
   "source": [
    "stoiipDF['STOIIP'].plot(kind='hist', histtype='step', bins=100, density=True)"
   ]
  },
  {
   "cell_type": "markdown",
   "metadata": {},
   "source": [
    "8. Plot the cumulative distribution function (cdf) of these 10,000 values of STOIIP <br>\n",
    "9. On this cdf plot, use vertical lines to show the $P_10$, $P_50$, and $P_90$ values of the STOIIP."
   ]
  },
  {
   "cell_type": "code",
   "execution_count": 9,
   "metadata": {},
   "outputs": [
    {
     "data": {
      "text/plain": [
       "<matplotlib.lines.Line2D at 0x130c3762710>"
      ]
     },
     "execution_count": 9,
     "metadata": {},
     "output_type": "execute_result"
    },
    {
     "data": {
      "image/png": "[encoded data removed]",
      "text/plain": [
       "<Figure size 432x288 with 1 Axes>"
      ]
     },
     "metadata": {
      "needs_background": "light"
     },
     "output_type": "display_data"
    }
   ],
   "source": [
    "stoiipDF['STOIIP'].plot(kind='hist', histtype='step', bins=100, density=True, cumulative = True)\n",
    "mp.axvline(stoiipDF['STOIIP'].quantile(0.10), c='C1',linestyle='--')\n",
    "mp.axvline(stoiipDF['STOIIP'].quantile(0.50), c='C1')\n",
    "mp.axvline(stoiipDF['STOIIP'].quantile(0.90), c='C1',linestyle=':')"
   ]
  },
  {
   "cell_type": "markdown",
   "metadata": {},
   "source": [
    "10. In one line display the 10th, 50th and 90th percentiles of the STOIIP values. <br>\n",
    "Hint: use the quantile function, and pass in a list of the percentiles as a fraction \n",
    "11. In a new markdown cell, type out what the P10, P50 and P90 estimates of the STOIIP are"
   ]
  },
  {
   "cell_type": "code",
   "execution_count": 10,
   "metadata": {},
   "outputs": [
    {
     "data": {
      "text/html": [
       "<div>\n",
       "<style scoped>\n",
       "    .dataframe tbody tr th:only-of-type {\n",
       "        vertical-align: middle;\n",
       "    }\n",
       "\n",
       "    .dataframe tbody tr th {\n",
       "        vertical-align: top;\n",
       "    }\n",
       "\n",
       "    .dataframe thead th {\n",
       "        text-align: right;\n",
       "    }\n",
       "</style>\n",
       "<table border=\"1\" class=\"dataframe\">\n",
       "  <thead>\n",
       "    <tr style=\"text-align: right;\">\n",
       "      <th></th>\n",
       "      <th>STOIIP</th>\n",
       "    </tr>\n",
       "  </thead>\n",
       "  <tbody>\n",
       "    <tr>\n",
       "      <th>0.1</th>\n",
       "      <td>1.736773e+07</td>\n",
       "    </tr>\n",
       "    <tr>\n",
       "      <th>0.5</th>\n",
       "      <td>2.990092e+07</td>\n",
       "    </tr>\n",
       "    <tr>\n",
       "      <th>0.9</th>\n",
       "      <td>4.542820e+07</td>\n",
       "    </tr>\n",
       "  </tbody>\n",
       "</table>\n",
       "</div>"
      ],
      "text/plain": [
       "           STOIIP\n",
       "0.1  1.736773e+07\n",
       "0.5  2.990092e+07\n",
       "0.9  4.542820e+07"
      ]
     },
     "execution_count": 10,
     "metadata": {},
     "output_type": "execute_result"
    }
   ],
   "source": [
    "stoiipDF.quantile([0.1,0.5,0.9])"
   ]
  },
  {
   "cell_type": "markdown",
   "metadata": {},
   "source": [
    "Estimates of the STOIIP: P10 = 45428200 stb\n",
    "                         P50 = 29900920 stb\n",
    "                         P90 = 17367730 stb"
   ]
  }
 ],
 "metadata": {
  "colab": {
   "collapsed_sections": [
    "sYQs3O-6dHFb",
    "8sIJ4A57dHFk",
    "_73RPOcBdHFn",
    "h9s2tfPcdHFo",
    "zt4YHVYPdHGR"
   ],
   "include_colab_link": true,
   "name": "Copy of intro-python-colab.ipynb",
   "provenance": [],
   "version": "0.3.2"
  },
  "kernelspec": {
   "display_name": "Python 3",
   "language": "python",
   "name": "python3"
  },
  "language_info": {
   "codemirror_mode": {
    "name": "ipython",
    "version": 3
   },
   "file_extension": ".py",
   "mimetype": "text/x-python",
   "name": "python",
   "nbconvert_exporter": "python",
   "pygments_lexer": "ipython3",
   "version": "3.7.3"
  }
 },
 "nbformat": 4,
 "nbformat_minor": 1
}
